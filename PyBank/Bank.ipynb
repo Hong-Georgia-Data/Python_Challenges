{
 "cells": [
  {
   "cell_type": "code",
   "execution_count": 1,
   "metadata": {},
   "outputs": [],
   "source": [
    "#import libraries\n",
    "import os\n",
    "import csv"
   ]
  },
  {
   "cell_type": "code",
   "execution_count": 2,
   "metadata": {},
   "outputs": [
    {
     "data": {
      "text/plain": [
       "'..\\\\PyBank\\\\Resources\\\\budget_data.csv'"
      ]
     },
     "execution_count": 2,
     "metadata": {},
     "output_type": "execute_result"
    }
   ],
   "source": [
    "#join path\n",
    "inpath = os.path.join(\"..\", \"PyBank\",\"Resources\", \"budget_data.csv\")\n",
    "inpath "
   ]
  },
  {
   "cell_type": "code",
   "execution_count": 3,
   "metadata": {},
   "outputs": [
    {
     "name": "stdout",
     "output_type": "stream",
     "text": [
      "Finanical Analysis\n",
      "--------------------------\n",
      "Total Months: 86\n",
      "Total: $38382578.0\n",
      "Average Change: $-2315.1176470588234\n",
      "Greatest Increase in Profits: Feb-2012 $1926159.0\n",
      "Greatest Decrease in Profits: Feb-2012 $-2196167.0\n"
     ]
    }
   ],
   "source": [
    "#test the inpath\n",
    "with open(inpath,  mode='r', encoding='ISO 8859-1') as csvfile:\n",
    "    bankreader= csv.reader(csvfile, delimiter=',')\n",
    "\n",
    "    bankheader= next(bankreader)\n",
    "    linecount = 0\n",
    "    profit_increment = 0\n",
    "    month_list = []\n",
    "    gross = []\n",
    "    up_list=[]\n",
    "    for line in bankreader:\n",
    "        linecount = linecount + 1\n",
    "        #changing line[1] to float\n",
    "        line[1] = float(line[1])        \n",
    "        ##print(line)\n",
    "        gross.append(float(line[1]))\n",
    "        month_list.append(line[0])\n",
    "        sum(gross)\n",
    "        #the number of data in gross started at 0 but line count started with 1 per loop/\n",
    "        #so gross + 1 = linecount => gross = linecount - 1// and we want gross[1] - gross[0] ==> gross[linecount -1 -1= linecount-2]\n",
    "        profit_increment = gross[linecount - 1] - gross[linecount - 2]\n",
    "        up_list.append(profit_increment)\n",
    "        \n",
    "#line[1] is the second column\n",
    "        #print(line[1])\n",
    "    \n",
    "print(\"Finanical Analysis\")\n",
    "print(\"--------------------------\")\n",
    "#Total Months\n",
    "print(f\"Total Months: {linecount}\")\n",
    "# total profit \n",
    "print(f\"Total: ${sum(gross)}\")\n",
    "#Average Change\n",
    "print(f\"Average Change: ${(line[1]-gross[0])/(linecount-1)}\")\n",
    "#greatest increase #greatest decrease\n",
    "max_up = up_list.index(max(up_list))\n",
    "min_up = up_list.index(min(up_list))\n",
    "print(f'Greatest Increase in Profits: {month_list[max_up]} ${max(up_list)}')\n",
    "print(f'Greatest Decrease in Profits: {month_list[max_up]} ${min(up_list)}')"
   ]
  },
  {
   "cell_type": "code",
   "execution_count": 4,
   "metadata": {},
   "outputs": [
    {
     "data": {
      "text/plain": [
       "'..\\\\PyBank\\\\Analysis\\\\Analysis.txt'"
      ]
     },
     "execution_count": 4,
     "metadata": {},
     "output_type": "execute_result"
    }
   ],
   "source": [
    "outpath= os.path.join(\"..\",\"PyBank\",'Analysis', 'Analysis.txt')\n",
    "outpath\n"
   ]
  },
  {
   "cell_type": "code",
   "execution_count": 7,
   "metadata": {},
   "outputs": [],
   "source": [
    "#Exportting \n",
    "with open(outpath, 'w') as textfile:\n",
    "    textfile.write(\"Finanical Analysis\\n\")\n",
    "    textfile.write(\"---------------------------------------------------\\n\")\n",
    "    textfile.write(f\"Total Months: {linecount}\\n\")\n",
    "    textfile.write(f\"Total: ${sum(gross)}\\n\")\n",
    "    textfile.write(f\"Average Change: ${(line[1]-gross[0])/(linecount-1)}\\n\")  \n",
    "    textfile.write(f'Greatest Increase in Profits: {month_list[max_up]} ${max(up_list)}\\n')                \n",
    "    textfile.write(f'Greatest Decrease in Profits: {month_list[max_up]} ${min(up_list)}\\n')"
   ]
  },
  {
   "cell_type": "code",
   "execution_count": null,
   "metadata": {},
   "outputs": [],
   "source": [
    "#this somehow print the memory locale/ what is type <class '_csv.reader'>?\n",
    "    #print(type(bankreader))\n",
    "    #testing bankreader-header/ lets hope that bank header will pop out\n",
    "    #print(bankheader)\n",
    "#I/O error on closed file, check the net it said might be indentation error\n",
    "#print the element\"line\" not the collection(bankreader) otherwise alll I got is rows of memory locale\n"
   ]
  },
  {
   "cell_type": "code",
   "execution_count": null,
   "metadata": {},
   "outputs": [],
   "source": [
    "#Lets look at the total months/ since the table  is a one month per row/ look for a count function/ will index work?/ will len work?\n",
    "#why does line count give me 88 instead of 86/ did it add up from the previous run?/ so how to stop it/ test 1: put it where the loop is/linecount added to in  every loop: lets reset it to zero/ if I put it\n",
    "#linecount as \"O \" before the loop, somehow it print the number I want with disregard to the previous loop/ that is might be because the line is ) out side the loop. Whenever it start before the loop,\n",
    "#it \"went\" backk to \"0\" and refinish it as the last number the loop stored\" \n"
   ]
  },
  {
   "cell_type": "code",
   "execution_count": null,
   "metadata": {},
   "outputs": [],
   "source": [
    "#Now it time to think of the total/#Tried the same argument/ but with sum or sth else/Whats the equailavence for  cells(row, col) in python csv./test 1: a list/ if how to add all objects in a list/ google\n",
    "# your friend/how do we know what type of element inside a list: a string or an integers/#look fot types of element because I wamt toadd it up buut it cannot\n",
    "        #for typelist1 in line:\n",
    "            #print(type(line[1])) it is a string/ how to change it into integer\n",
    "#google's my friend again got /map(float, mylist)/ see if it work/ did not work/[float(i) for i in lst]/ see if it work/ nope/line[1] is not a list/ line is a list/ that is where the confusion start\n",
    "#able to finally turn line[1] to float but due to the object give an error called the\"'float' object has no attribute 'sum' or  'float' object is not iterable\"/ Test 2: create a list/first try it give the\n",
    "#last profit not the sum/ \n",
    "\n",
    "\n",
    "####// lessons learned: when shift-enter a vbox inside theloop will bring all the loopee / bottom of it will bring the last loopee/ having an empty vbox before will reset the variable whenver we loop again/\n",
    "####// vbox.append inside the loop will continued to add the float inside it"
   ]
  },
  {
   "cell_type": "code",
   "execution_count": null,
   "metadata": {},
   "outputs": [],
   "source": [
    "#Now it time to think of the average change// lest hope it is not tricky one/ total o/o by the line count/ NOPE now what is meant by average change/ \n",
    "#Average change is google answer as \"Average rate of change is just an application of the slope formula: (y2-y1)/(x2-x1).\"/ but if there is more than two and tid id not seem to be the correct for?\n",
    "# I cannot believed I screwed for half an hour because order of operation. Why hand and paper and handheld calculator is the better than a pc."
   ]
  },
  {
   "cell_type": "code",
   "execution_count": null,
   "metadata": {},
   "outputs": [],
   "source": [
    "#Greatest Increase in profit/first thought: x2-x1/ Max of  x(n+1)-X(1)/ N +1 is the answer we want / N is linecount/ X is line/\n",
    "#Second thought: new list[Increase]/Max\n",
    "#Third thought: how to capture the months of Max, Max correspond to X+1 but it belong to up-list/ \n",
    "#fourth thought: if up-list[v] = gross[v] then up-list[linecount -1]/ when it is linecount - 1 print line[0]/  how to find index for a list: list.index(max(uplist))/ create a vbox to store it\n",
    "\n",
    "#Greatest Decrease in profit\n"
   ]
  }
 ],
 "metadata": {
  "kernelspec": {
   "display_name": "Python 3",
   "language": "python",
   "name": "python3"
  },
  "language_info": {
   "codemirror_mode": {
    "name": "ipython",
    "version": 3
   },
   "file_extension": ".py",
   "mimetype": "text/x-python",
   "name": "python",
   "nbconvert_exporter": "python",
   "pygments_lexer": "ipython3",
   "version": "3.7.6"
  }
 },
 "nbformat": 4,
 "nbformat_minor": 4
}
