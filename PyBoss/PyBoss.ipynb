{
 "cells": [
  {
   "cell_type": "code",
   "execution_count": 1,
   "metadata": {
    "jupyter": {
     "source_hidden": true
    }
   },
   "outputs": [],
   "source": [
    "##thi loop give me something like this \n",
    "#for line in emp_read:['232', 'John Mathews', '1991-02-24', '289-31-9165', 'North Dakota']\n",
    "    #print(line)\n",
    "#line as many lists\n",
    "#['533', 'Nathan Moore', '1978-11-19', '220-05-7469', 'Maine']\n",
    "#['256', 'Amanda Douglas', '1990-01-08', '564-27-6961', 'Idaho']\n",
    "#['189', 'Heather Andrews', '1976-08-11', '742-79-1797', 'Vermont']\n",
    "#['284', 'Daniel Hernandez', '1976-07-22', '656-01-7473', 'Colorado']\n",
    "\n",
    "# for line in emp_read:\n",
    "        #print(line[2])\n",
    "    #it give\n",
    "    #1991-02-24\n",
    "    #1978-11-19\n",
    "    #1990-01-08\n",
    "     #1976-08-11\n",
    "\n",
    "#this list comprehension give\n",
    "##emp_read = [line for line in emp_read]\n",
    "    ##print(emp_read)\n",
    "## NOTE the double brackets at the begining\n",
    "#[['232', 'John Mathews', '1991-02-24', '289-31-9165', 'North Dakota'], ['533', 'Nathan Moore', '1978-11-19', '220-05-7469', 'Maine'],['189', 'Heather Andrews', '1976-08-11', '742-79-1797', 'Vermont'],\n",
    " #['284', 'Daniel Hernandez', '1976-07-22', '656-01-7473', 'Colorado'], ['512', 'Danny Pena', '1978-01-31', '158-33-9878', 'Minnesota'],\n",
    " #['126', 'Gary Knight', '1994-03-08', '782-25-1242', 'Arkansas'], ['556', 'Robin Carroll', '1972-10-14', '606-48-7194', 'California'], \n",
    "#print(emp_content[0][]) give me 232. \n",
    "#print(emp_content[3][1]) give me Heather Andrew\n",
    "#summary after list comprehenopm\n",
    "#emp_content[coloumn][row]\n",
    "\n",
    "\n",
    "#emp_read = [line for line in emp_read]\n",
    "    #print(line)\n",
    "#line give me ['323', 'Jeremy Obrien', '1982-01-13', '153-17-7592', 'Oregon']\n",
    "#print(line[2])#this is inconsistent/no idea what it happen now/\n",
    "#1982-01-13\n",
    "\n",
    "    "
   ]
  },
  {
   "cell_type": "code",
   "execution_count": 1,
   "metadata": {},
   "outputs": [],
   "source": [
    "import os\n",
    "import csv"
   ]
  },
  {
   "cell_type": "code",
   "execution_count": 2,
   "metadata": {},
   "outputs": [
    {
     "data": {
      "text/plain": [
       "'..\\\\PyBoss\\\\employee_data.csv'"
      ]
     },
     "execution_count": 2,
     "metadata": {},
     "output_type": "execute_result"
    }
   ],
   "source": [
    "#join path OS\n",
    "inpath = os.path.join('..','PyBoss','employee_data.csv') \n",
    "inpath"
   ]
  },
  {
   "cell_type": "code",
   "execution_count": 3,
   "metadata": {},
   "outputs": [],
   "source": [
    "#with open\n",
    "#define x and y, see below for thought process\n",
    "#the reason for x and y is because I want to do everything the hard way to remember the methods\n",
    "x=0\n",
    "y=0\n",
    "Emp_Id=[]\n",
    "Fullname=[]\n",
    "dobori=[]\n",
    "ssn_p=[]\n",
    "state=[]\n",
    "\n",
    "with open(inpath) as emp_file:\n",
    "    emp_read = csv.reader(emp_file, delimiter=',')\n",
    "    \n",
    "    emp_header = next(emp_read)\n",
    "    #list comprehension\n",
    "    emp_content = [line for line in emp_read]\n",
    "    \n",
    "    #we want emp_content to belong to a new csv\n",
    "    #we want the to SPlIt the name into First and Last\n",
    "    #the name is divided by \"SPACEE\"\n",
    "    #we want the date to change from yyyy/mm/dd to MM/DD/YYYY\n",
    "    #we want SSN to have ***-**-ssss\n",
    "    #and we want the state abbreviation\n",
    "    #lets append\n",
    "    \n",
    "    #In general is nested loop more slower or faster than one-by-one???\n",
    "    \n",
    "    for x in range (0, len(emp_content)):\n",
    "            Emp_Id.append(emp_content[x][y])\n",
    "    \n",
    "    if len(Emp_Id)==len(emp_content):\n",
    "        y= y + 1\n",
    "    \n",
    "    for x in range (0, len(emp_content)):       \n",
    "            Fullname.append(emp_content[x][y])\n",
    "    \n",
    "    if len(Fullname)==len(emp_content):\n",
    "        y= y + 1       \n",
    "            \n",
    "    for x in range (0, len(emp_content)):             \n",
    "        dobori.append((emp_content[x][y]))\n",
    "        \n",
    "    if len(dobori)==len(emp_content):\n",
    "        y= y + 1\n",
    "        \n",
    "    for x in range (0, len(emp_content)):    \n",
    "        ssn_p.append(emp_content[x][y])\n",
    "    \n",
    "    if len(ssn_p)==len(emp_content):\n",
    "        y= y + 1\n",
    "        \n",
    "    for x in range (0, len(emp_content)):     \n",
    "        state.append((emp_content[x][y]))\n",
    "\n",
    "    if len(state)==len(emp_content):\n",
    "        y= 0\n",
    "        \n",
    "#Now we have Emp_Id, FullName, Dob, ssn_p, state\n",
    "#lets look at how we split Fullname in the next bloock\n",
    "#but first learn about dictionaroes\n",
    "#Emp_Id\n",
    "#FullName"
   ]
  },
  {
   "cell_type": "code",
   "execution_count": 5,
   "metadata": {},
   "outputs": [
    {
     "data": {
      "text/plain": [
       "650"
      ]
     },
     "execution_count": 5,
     "metadata": {},
     "output_type": "execute_result"
    }
   ],
   "source": [
    "#let do state dictionary because it already been given in the instruction\n",
    "#method for printing Dict print(state_abbrev['Alabama'])\n",
    "\n",
    "state_abbrev = {\n",
    "    'Alabama': 'AL','Alaska': 'AK','Arizona': 'AZ','Arkansas': 'AR','California': 'CA','Colorado': 'CO','Connecticut': 'CT',\n",
    "    'Delaware': 'DE','Florida': 'FL','Georgia': 'GA','Hawaii': 'HI','Idaho': 'ID','Illinois': 'IL','Indiana': 'IN','Iowa': 'IA','Kansas': 'KS',\n",
    "    'Kentucky': 'KY','Louisiana': 'LA','Maine': 'ME',    'Maryland': 'MD',    'Massachusetts': 'MA',\n",
    "    'Michigan': 'MI','Minnesota': 'MN', 'Mississippi': 'MS','Missouri': 'MO', 'Montana': 'MT','Nebraska': 'NE','Nevada': 'NV','New Hampshire': 'NH','New Jersey': 'NJ','New Mexico': 'NM',\n",
    "    'New York': 'NY','North Carolina': 'NC','North Dakota': 'ND','Ohio': 'OH','Oklahoma': 'OK','Oregon': 'OR','Pennsylvania': 'PA','Rhode Island': 'RI','South Carolina': 'SC',\n",
    "    'South Dakota': 'SD','Tennessee': 'TN','Texas': 'TX','Utah': 'UT','Vermont': 'VT','Virginia': 'VA','Washington': 'WA','West Virginia': 'WV','Wisconsin': 'WI', 'Wyoming': 'WY',\n",
    "}\n",
    "\n",
    "#state_abbrev\n",
    "#AB for state abbreviation value as list\n",
    "#.items is the lessons here\n",
    "stateAB=[]\n",
    "for state_n in state:\n",
    "    for ky, vl in state_abbrev.items():\n",
    "        if state_n == ky:\n",
    "            state_n = vl\n",
    "            stateAB.append(state_n)\n",
    "            \n",
    "len(stateAB)"
   ]
  },
  {
   "cell_type": "code",
   "execution_count": 6,
   "metadata": {},
   "outputs": [],
   "source": [
    "#NAME instruction from w3 school\n",
    "#string.split(separator, maxsplit) separator \t\n",
    "#Optional. Specifies the separator to use when splitting the string. By default any whitespace is a separator\n",
    "#maxsplit \tOptional. Specifies how many splits to do. Default value is -1, which is \"all occurrences\"\n",
    "## Second instruction from stack overflow (/t) is the saperator for that particular case, list is the original\n",
    "#>>> [i.split('', 1)[0] for i in l]\n",
    "##myList = [i.split('\\t')[0] for i in List] \n",
    "First_Name=[]\n",
    "Last_Name=[]\n",
    "First_Name=[i.split(' ')[0] for i in Fullname]\n",
    "Last_Name =[j.split(' ')[1] for j in Fullname]"
   ]
  },
  {
   "cell_type": "code",
   "execution_count": 7,
   "metadata": {},
   "outputs": [],
   "source": [
    "#changing DOB\n",
    "#how about we split the DOB and ssn\n",
    "DOB=[] \n",
    "SSN=[]\n",
    "\n",
    "YY=[yyy.split('-')[0] for yyy in dobori]\n",
    "MM=[mmm.split('-')[1] for mmm in dobori]\n",
    "DD=[ddd.split('-')[2] for ddd in dobori]\n",
    "SSSS=[sss.split('-')[2] for sss in ssn_p]\n",
    "\n",
    "for t in range(0, len(dobori)):\n",
    "    dob =  f'{MM[t]} / {DD[t]} / {YY[t]}'  \n",
    "    DOB.append(dob)\n",
    "    s4= f'***-**-{SSSS[t]}'\n",
    "    SSN.append(s4)\n"
   ]
  },
  {
   "cell_type": "code",
   "execution_count": 8,
   "metadata": {},
   "outputs": [
    {
     "data": {
      "text/plain": [
       "'..\\\\Pyboss\\\\Pyboss Result.csv'"
      ]
     },
     "execution_count": 8,
     "metadata": {},
     "output_type": "execute_result"
    }
   ],
   "source": [
    "#creating anout path\n",
    "outpath= os.path.join('..','Pyboss','Pyboss Result.csv')\n",
    "outpath"
   ]
  },
  {
   "cell_type": "code",
   "execution_count": 9,
   "metadata": {},
   "outputs": [],
   "source": [
    "the_zip= zip(Emp_Id, First_Name, Last_Name, DOB, SSN, stateAB)\n",
    "#TEST\n",
    "#the_zip= zip(Emp_Id, First_Name,Last_Name, stateAB)\n",
    "with open(outpath, 'w') as csvfile:\n",
    "\n",
    "    # Initialize csv.writer\n",
    "    csvwriter = csv.writer(csvfile, delimiter=\",\")\n",
    "\n",
    "    # Write the first row (column headers)\n",
    "    csvwriter.writerow(['Emp ID', 'First Name','Last Name','DOB', 'SSN','State',])\n",
    "    ##TEST csvwriter.writerow([\"Emp ID\", \"First Name\",\"Last Name\",\"State\"])\n",
    "    # fill the the first column\n",
    "    for z1 in the_zip:\n",
    "        csvwriter.writerow(z1)\n",
    "            "
   ]
  },
  {
   "cell_type": "code",
   "execution_count": 10,
   "metadata": {},
   "outputs": [],
   "source": [
    "#this is the question we need to ask\n",
    "#we want the know what is the string and limit it in so that we can put it in a row\n",
    "#declare these variable, x is coloum, y is row\n",
    "#I use this but it seem that there is an easier way\n",
    "#x=0\n",
    "#y=0\n",
    "#for y in range(0,len(emp_content)):\n",
    "   # for x in range (0, len(emp_content)):\n",
    "      #  print(emp_content[x][y])\n",
    "        "
   ]
  },
  {
   "cell_type": "code",
   "execution_count": null,
   "metadata": {},
   "outputs": [],
   "source": []
  }
 ],
 "metadata": {
  "kernelspec": {
   "display_name": "Python 3",
   "language": "python",
   "name": "python3"
  },
  "language_info": {
   "codemirror_mode": {
    "name": "ipython",
    "version": 3
   },
   "file_extension": ".py",
   "mimetype": "text/x-python",
   "name": "python",
   "nbconvert_exporter": "python",
   "pygments_lexer": "ipython3",
   "version": "3.7.6"
  }
 },
 "nbformat": 4,
 "nbformat_minor": 4
}
