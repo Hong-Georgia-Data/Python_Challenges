{
 "cells": [
  {
   "cell_type": "code",
   "execution_count": 1,
   "metadata": {},
   "outputs": [],
   "source": [
    "#THE OBJECTIVES\n",
    "#Import a text file filled with a paragraph of your choosing.\n",
    "\n",
    "#(Paragraph Analysis\n",
    "#-----------------\n",
    "#Approximate Word Count: \n",
    "#Approximate Sentence Count:\n",
    "#Average Letter Count: \n",
    "#Average Sentence Length: \n",
    "\n",
    "#instruction\n",
    "#import re (Regular expression)\n",
    "#re.split(\"(?<=[.!?]) +\", paragraph) ###for sentence length\n",
    "#Regular expression\n"
   ]
  },
  {
   "cell_type": "code",
   "execution_count": 6,
   "metadata": {},
   "outputs": [],
   "source": [
    "import re\n",
    "import os"
   ]
  },
  {
   "cell_type": "code",
   "execution_count": 7,
   "metadata": {},
   "outputs": [
    {
     "data": {
      "text/plain": [
       "'..\\\\PyParagraph\\\\paragraph_1.txt'"
      ]
     },
     "execution_count": 7,
     "metadata": {},
     "output_type": "execute_result"
    }
   ],
   "source": [
    "inpath_1=os.path.join(\"..\",\"PyParagraph\",\"paragraph_1.txt\")\n",
    "inpath_1"
   ]
  },
  {
   "cell_type": "code",
   "execution_count": 11,
   "metadata": {},
   "outputs": [
    {
     "name": "stdout",
     "output_type": "stream",
     "text": [
      "961\n"
     ]
    }
   ],
   "source": [
    "#using Slack overflow method\n",
    "\n",
    "textfile1= open(inpath_1, mode='r')\n",
    "\n",
    "file_1= textfile1.read()\n",
    "#print(file_1)\n",
    "\n",
    "#Analyse the string\n",
    "#first we need to know the wordcount, it is done by split function \" \"\n",
    "#But what I got instead is a letter count\n",
    "\n",
    "def lettercount(file):\n",
    "    le_in_ls=[le for le in file]  \n",
    "    #print(type(le_in_ls))\n",
    "   # print(le_in_ls)\n",
    "    return(len(le_in_ls)-1) #(-1) because the split also count the space behind the last comma\n",
    "\n",
    "print(lettercount(file_1))\n",
    "\n",
    "def wordcount(file):\n",
    "    w_in_ls=file.split(\" \")\n",
    "    return(len(w_in_ls)-1) #(-1) because the split also count the space behind the last \"space\"\n",
    "\n",
    "def sentencecount(file):\n",
    "    se_in_ls=file.split(\".\")\n",
    "    return(len(se_in_ls)-1) #(-1) because the split also count the space behind the last comma\n",
    "\n",
    "#then the average letter count MATH= finally a simple math. [Know the letter length of each word,] add them up, divided byt tge\n",
    "\n",
    "\n",
    "def av_word(file):\n",
    "    return(round(float(lettercount(file)/wordcount(file)), 2 ))\n",
    "\n",
    "def av_sent(file):\n",
    "    return(round(float(wordcount(file)/sentencecount(file)), 2))\n",
    "#the average sentence lenght think later\n",
    "\n",
    "# def wordcount_analysis(file):\n",
    "#     print (f' Paragraph Analysis')\n",
    "#     print (f' -------------------------------------')\n",
    "#     print (f' Approximate Word Count: {wordcount(file)}')\n",
    "#     print (f' Approximate Sentence Count: {sentencecount(file)}')\n",
    "#     #print (f' Average Letter Count: {av_word(file)}')\n",
    "#     #return (f' Average Sentence Count: {av_sent(file)}')\n",
    "    "
   ]
  },
  {
   "cell_type": "code",
   "execution_count": 14,
   "metadata": {},
   "outputs": [],
   "source": [
    "def wordcount_analysis(file):\n",
    "    statement= f'''      Paragraph Analysis\n",
    "      -------------------------------------\n",
    "      Approximate Word Count: {wordcount(file)}\n",
    "      Approximate Sentence Count: {sentencecount(file)}\n",
    "      Average Letter Count: {av_word(file)}\n",
    "      Average Sentence Count: {av_sent(file)}'''\n",
    "    return statement"
   ]
  },
  {
   "cell_type": "code",
   "execution_count": 18,
   "metadata": {},
   "outputs": [],
   "source": [
    "# str1 = \"hi my name is rene\"\n",
    "# one = str1.split(' ')\n",
    "# two = []\n",
    "# for word in str1:\n",
    "#     two.append(word)"
   ]
  },
  {
   "cell_type": "code",
   "execution_count": 19,
   "metadata": {},
   "outputs": [
    {
     "data": {
      "text/plain": [
       "['hi', 'my', 'name', 'is', 'rene']"
      ]
     },
     "execution_count": 19,
     "metadata": {},
     "output_type": "execute_result"
    }
   ],
   "source": [
    "# two\n",
    "# one"
   ]
  },
  {
   "cell_type": "code",
   "execution_count": 17,
   "metadata": {},
   "outputs": [
    {
     "name": "stdout",
     "output_type": "stream",
     "text": [
      "      Paragraph Analysis\n",
      "      -------------------------------------\n",
      "      Approximate Word Count: 129\n",
      "      Approximate Sentence Count: 5\n",
      "      Average Letter Count: 7.45\n",
      "      Average Sentence Count: 25.8\n"
     ]
    }
   ],
   "source": [
    "print(wordcount_analysis(file_1))\n"
   ]
  },
  {
   "cell_type": "code",
   "execution_count": 131,
   "metadata": {},
   "outputs": [],
   "source": [
    "#A simple one finally"
   ]
  },
  {
   "cell_type": "code",
   "execution_count": 12,
   "metadata": {},
   "outputs": [],
   "source": [
    "#testing if the result replicatable\n",
    "\n",
    "#inpath_2=os.path.join(\"..\",\"PyParagraph\",\"paragraph_2.txt\")\n",
    "#inpath_2\n",
    "#textfile2= open(inpath_2, mode='r')\n",
    "\n",
    "#file_2= textfile2.read()"
   ]
  },
  {
   "cell_type": "code",
   "execution_count": 13,
   "metadata": {},
   "outputs": [
    {
     "name": "stdout",
     "output_type": "stream",
     "text": [
      " Paragraph Analysis\n",
      " -------------------------------------\n",
      " Approximate Word Count: 275\n",
      " Approximate Sentence Count: 11\n",
      " Average Letter Count: 6.5\n",
      " Average Sentence Count: 25.0\n"
     ]
    }
   ],
   "source": [
    "#print(wordcount_analysis(file_2))\n"
   ]
  },
  {
   "cell_type": "code",
   "execution_count": null,
   "metadata": {},
   "outputs": [],
   "source": []
  }
 ],
 "metadata": {
  "kernelspec": {
   "display_name": "Python 3",
   "language": "python",
   "name": "python3"
  },
  "language_info": {
   "codemirror_mode": {
    "name": "ipython",
    "version": 3
   },
   "file_extension": ".py",
   "mimetype": "text/x-python",
   "name": "python",
   "nbconvert_exporter": "python",
   "pygments_lexer": "ipython3",
   "version": "3.7.6"
  }
 },
 "nbformat": 4,
 "nbformat_minor": 4
}
