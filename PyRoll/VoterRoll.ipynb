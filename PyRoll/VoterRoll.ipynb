{
 "cells": [
  {
   "cell_type": "code",
   "execution_count": 1,
   "metadata": {},
   "outputs": [],
   "source": [
    "import os\n",
    "import csv\n",
    "import math as mt"
   ]
  },
  {
   "cell_type": "code",
   "execution_count": null,
   "metadata": {},
   "outputs": [],
   "source": []
  },
  {
   "cell_type": "code",
   "execution_count": 2,
   "metadata": {},
   "outputs": [
    {
     "data": {
      "text/plain": [
       "'..\\\\PyRoll\\\\Resources\\\\election_data.csv'"
      ]
     },
     "execution_count": 2,
     "metadata": {},
     "output_type": "execute_result"
    }
   ],
   "source": [
    "inpath = os.path.join(\"..\",\"PyRoll\",\"Resources\",\"election_data.csv\")\n",
    "inpath\n"
   ]
  },
  {
   "cell_type": "code",
   "execution_count": null,
   "metadata": {},
   "outputs": [],
   "source": []
  },
  {
   "cell_type": "code",
   "execution_count": 3,
   "metadata": {},
   "outputs": [
    {
     "name": "stdout",
     "output_type": "stream",
     "text": [
      "Election Results\n",
      "---------------------------------------------------\n",
      "Total Votes: 3521001 \n",
      "---------------------------------------------------\n",
      "Khan: 63.000% (2218231)\n",
      "Correy: 20.000% (704200)\n",
      "Li: 14.000% (492940)\n",
      "O'Tooley: 3.000% (105630)\n",
      "Winner: Khan\n",
      "---------------------------------------------------\n"
     ]
    }
   ],
   "source": [
    "with open(inpath,  mode='r', encoding='ISO 8859-1') as csvfile:\n",
    "    votereader= csv.reader(csvfile, delimiter=',')\n",
    "\n",
    "    voteheader= next(votereader)\n",
    "    each_vote = []\n",
    "\n",
    "    third_col = []\n",
    "    vote_ls=[]\n",
    "    candidate = []\n",
    "    name_count = 0\n",
    "    linecount = 0 \n",
    "    percent_l=[]\n",
    "    \n",
    "    nX =0\n",
    "    nY =0\n",
    "    y=0\n",
    "    per_cand=0\n",
    "    z=0\n",
    "    w=0\n",
    "   #SET DO NOT ALLOW DUPLICATE> WHY DONT I USE THIS SINCE/ set()\n",
    "  \n",
    "    \n",
    "    for line in votereader:\n",
    "        linecount = linecount + 1  \n",
    "        third_col.append(line[2])\n",
    "        if line[2] not in candidate:\n",
    "            candidate.append(line[2])\n",
    "            name_count =name_count +1\n",
    "            #x is a placeholder a string\n",
    "    \n",
    "            \n",
    "            #if x == candidate[y]:\n",
    "                #a failed experiment that gave a successful result of other many many many previous failed experiments \n",
    "                #nX= nX+1\n",
    "                #each_vote= sum(nx)\n",
    "                #another test hope for this result vote_ls=[nX, nX, nX] \n",
    "                \n",
    "                #vote_ls.append(sum(each_vote))\n",
    "   \n",
    "    # the failed experiment lead to succesful result of having a list with the len(each vote spot)=len(candidate) I do not specific number because there might be more than\n",
    "    # four candidates for next voterroll\n",
    "    #creating eachvote to create 4 element\n",
    "    \n",
    "    for cand in candidate:\n",
    "        nX =0        \n",
    "        each_vote.append(nX)\n",
    "        \n",
    "    \n",
    "    #for lin2 in line[2]:\n",
    "      #      if lin2 == candidate[y]:\n",
    "       #         nX = nX +1\n",
    "                \n",
    "        #    else:\n",
    "         #       each_vote.append(nX)\n",
    "          #      y= y+1\n",
    "           #     if y == name_count :\n",
    "            #        break\n",
    "  #\n",
    "    for string in third_col:\n",
    "        for nY in range(0, name_count):\n",
    "            \n",
    "            if string == candidate[nY]:\n",
    "                #per_cand = per_cand+1 #take this out\n",
    "                #each_vote[nY] += 1\n",
    "                each_vote[nY] = each_vote[nY] + 1\n",
    "            #else:\n",
    "                \n",
    "               #nY= nY +1\n",
    "                #per_cand=0 #take this out\n",
    "                #if nY == name_count:\n",
    "                    #break\n",
    "            \n",
    "\n",
    "                    \n",
    "                    \n",
    "# for reason unknown to me three elements of the each_vote is correct except the first one\n",
    "#each_vote[0]= linecount- (each_vote[1] + each_vote[2] + each_vote[3])\n",
    "\n",
    "\n",
    "#Time for MATHHHHH, Yeah, finally a simple action\n",
    "\n",
    "#percen\n",
    "#header\n",
    "print(\"Election Results\")\n",
    "print(\"---------------------------------------------------\")\n",
    "#Total Vote\n",
    "print(f'Total Votes: {linecount} ')\n",
    "print(\"---------------------------------------------------\")\n",
    "\n",
    "#Canditate\n",
    "\n",
    "for z in range(0,name_count):\n",
    "    print(f'{candidate[z]}: { \"{:.3%}\".format(each_vote[z]/linecount)} ({each_vote[z]})')\n",
    "\n",
    "#print(\"---------------------------------------------------\")\n",
    "if each_vote[w] is max(each_vote):  \n",
    "    print(f\"Winner: {candidate[w]}\")\n",
    "print(\"---------------------------------------------------\")\n",
    "\n",
    "\n",
    "\n",
    "\n",
    "#name_count  \n",
    "#each_vote[0]\n",
    "###################################\n",
    "#print(f'Total candidate {len(candidate)}')\n",
    "#print(f'{candidate[0]}: ({each_vote[0]})')\n",
    "#print(f'{candidate[1]}: ({each_vote[1]})')\n",
    "#print(f'{candidate[2]}: ({each_vote[2]})')\n",
    "#print(f'{candidate[3]}: ({each_vote[3]})')\n",
    "\n",
    "#################################\n",
    "\n",
    "\n",
    "#print(f'{candidate[0]} received {votes} ')\n",
    "#percent_l\n",
    "#each_vote\n",
    "#type(x)\n",
    "#per_cand\n",
    "#y\n",
    "#vote_first\n",
    "#vote_ls\n",
    "#candidate"
   ]
  },
  {
   "cell_type": "code",
   "execution_count": 4,
   "metadata": {},
   "outputs": [
    {
     "data": {
      "text/plain": [
       "'..\\\\PyRoll\\\\Analysis\\\\Analysis.txt'"
      ]
     },
     "execution_count": 4,
     "metadata": {},
     "output_type": "execute_result"
    }
   ],
   "source": [
    "outpath= os.path.join(\"..\",\"PyRoll\",'Analysis', 'Analysis.txt')\n",
    "outpath"
   ]
  },
  {
   "cell_type": "code",
   "execution_count": 5,
   "metadata": {},
   "outputs": [
    {
     "data": {
      "text/plain": [
       "'C:\\\\Users\\\\Bill\\\\Desktop\\\\GT Data Bootcamp\\\\Git Hub Submission\\\\Python-Challenge\\\\PyRoll'"
      ]
     },
     "execution_count": 5,
     "metadata": {},
     "output_type": "execute_result"
    }
   ],
   "source": [
    "pwd"
   ]
  },
  {
   "cell_type": "code",
   "execution_count": 6,
   "metadata": {},
   "outputs": [],
   "source": [
    "#Exportting \n",
    "with open(outpath, 'w') as textfile:\n",
    "    textfile.write(\"Election Results\\n\")\n",
    "    textfile.write(\"---------------------------------------------------\\n\")\n",
    "    textfile.write(f'Total Votes: {linecount}\\n')\n",
    "    textfile.write(\"---------------------------------------------------\\n\")\n",
    "    for z in range(0,name_count):\n",
    "        textfile.write(f'{candidate[z]}: { \"{:.3%}\".format(each_vote[z]/linecount)} ({each_vote[z]})\\n')\n",
    "    textfile.write(\"---------------------------------------------------\\n\")  \n",
    "    if each_vote[w] is max(each_vote):  \n",
    "        textfile.write(f\"Winner: {candidate[w]}\\n\")\n",
    "        textfile.write(\"---------------------------------------------------\\n\")\n"
   ]
  },
  {
   "cell_type": "code",
   "execution_count": null,
   "metadata": {},
   "outputs": [],
   "source": [
    "#####/ lessions for today: BBBRRREAK. When \"index is out of range\": REMEMBER BREAK BREAK BREAK. Forgot about manupilating. Set a limit then BREEAK.\n",
    "#####/ ATTRIBUTESSSSS. APPEND add aother element to [(),(),(),(),)_(,,,,,,[ITS END]]\n",
    "######/ += addddded an number to to vbox[#]"
   ]
  },
  {
   "cell_type": "code",
   "execution_count": null,
   "metadata": {},
   "outputs": [],
   "source": [
    "####/ I spent a combined more than 13 hours on this homework, more than seven is sitting in front of trying to get the list each vote to show up. \n",
    "#So , for not not remembering thought process "
   ]
  },
  {
   "cell_type": "code",
   "execution_count": null,
   "metadata": {},
   "outputs": [],
   "source": [
    "#linecount is total vote\n",
    "# use a code from the net \".add\"/#use another method that is similar\n",
    "#line[2] is coloumn three, we need to know how many of this equal\n",
    "#using count? using what I do in bank?\n",
    "#i use several variable to keep track of it num_candiate to count the candidate[], votes to count the vote each, lets tried the next method\n",
    "#after many speelingg errors I have got an unhasable type for some reason.\n",
    "#so I change the list to a tuple but then it se\n",
    "#Test 5 : lets try zip\n"
   ]
  },
  {
   "cell_type": "code",
   "execution_count": null,
   "metadata": {},
   "outputs": [],
   "source": [
    "#the first war for row in third_col:\n",
    "        #if row == candidate[0]:\n",
    "            #vote_per_candidate = vote_per_candidate + 1\n",
    "#####/ Long way to create a list with the same amount as the number of the name. Smell of an amateur\n",
    "        "
   ]
  }
 ],
 "metadata": {
  "kernelspec": {
   "display_name": "Python 3",
   "language": "python",
   "name": "python3"
  },
  "language_info": {
   "codemirror_mode": {
    "name": "ipython",
    "version": 3
   },
   "file_extension": ".py",
   "mimetype": "text/x-python",
   "name": "python",
   "nbconvert_exporter": "python",
   "pygments_lexer": "ipython3",
   "version": "3.7.6"
  }
 },
 "nbformat": 4,
 "nbformat_minor": 4
}
